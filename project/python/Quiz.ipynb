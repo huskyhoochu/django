{
 "cells": [
  {
   "cell_type": "markdown",
   "metadata": {},
   "source": [
    "# 17/09/19 Quiz"
   ]
  },
  {
   "cell_type": "markdown",
   "metadata": {},
   "source": [
    "### n개의 숫자를 입력받아 제일 큰 수를 반환하는 'mymax' 함수를 만드시오. (python의 내장함수 max() 사용금지) "
   ]
  },
  {
   "cell_type": "code",
   "execution_count": 33,
   "metadata": {
    "collapsed": true
   },
   "outputs": [],
   "source": [
    "def mymax(*args):\n",
    "    new_seq = list(args)\n",
    "    seq_len = len(new_seq)\n",
    "    \n",
    "    for i in range(seq_len - 1):\n",
    "        min_index = i\n",
    "        min_value = new_seq[min_index]\n",
    "        \n",
    "        for j in range(i, seq_len):\n",
    "            if new_seq[j] < min_value:\n",
    "                min_index = j\n",
    "                min_value = new_seq[min_index]\n",
    "        \n",
    "        if i == min_index:\n",
    "            pass\n",
    "        else:\n",
    "            new_seq[i], new_seq[min_index] = new_seq[min_index], new_seq[i]\n",
    "        \n",
    "    return new_seq[-1]"
   ]
  },
  {
   "cell_type": "code",
   "execution_count": 34,
   "metadata": {},
   "outputs": [
    {
     "data": {
      "text/plain": [
       "9"
      ]
     },
     "execution_count": 34,
     "metadata": {},
     "output_type": "execute_result"
    }
   ],
   "source": [
    "mymax(3,4,5,6,7,8,9,2)"
   ]
  },
  {
   "cell_type": "code",
   "execution_count": 35,
   "metadata": {},
   "outputs": [
    {
     "name": "stdout",
     "output_type": "stream",
     "text": [
      "press\n"
     ]
    },
    {
     "data": {
      "text/plain": [
       "''"
      ]
     },
     "execution_count": 35,
     "metadata": {},
     "output_type": "execute_result"
    }
   ],
   "source": [
    "value = input('press')\n",
    "mymax(value)"
   ]
  },
  {
   "cell_type": "code",
   "execution_count": 40,
   "metadata": {},
   "outputs": [],
   "source": [
    "def mydecorator(func):\n",
    "    def inner_func(*args, **kwargs):\n",
    "        print('args :', args)\n",
    "        print('kwargs :', kwargs)\n",
    "        return func(*args, **kwargs)\n",
    "    return inner_func"
   ]
  },
  {
   "cell_type": "code",
   "execution_count": 41,
   "metadata": {},
   "outputs": [],
   "source": [
    "@mydecorator\n",
    "def mymax(*args):\n",
    "    new_seq = list(args)\n",
    "    seq_len = len(new_seq)\n",
    "    \n",
    "    for i in range(seq_len - 1):\n",
    "        min_index = i\n",
    "        min_value = new_seq[min_index]\n",
    "        \n",
    "        for j in range(i, seq_len):\n",
    "            if new_seq[j] < min_value:\n",
    "                min_index = j\n",
    "                min_value = new_seq[min_index]\n",
    "        \n",
    "        if i == min_index:\n",
    "            pass\n",
    "        else:\n",
    "            new_seq[i], new_seq[min_index] = new_seq[min_index], new_seq[i]\n",
    "        \n",
    "    return new_seq[-1]"
   ]
  },
  {
   "cell_type": "code",
   "execution_count": 42,
   "metadata": {},
   "outputs": [
    {
     "name": "stdout",
     "output_type": "stream",
     "text": [
      "args : (3, 4, 5, 6)\n",
      "kwargs : {}\n"
     ]
    },
    {
     "data": {
      "text/plain": [
       "6"
      ]
     },
     "execution_count": 42,
     "metadata": {},
     "output_type": "execute_result"
    }
   ],
   "source": [
    "mymax(3,4,5,6)"
   ]
  },
  {
   "cell_type": "code",
   "execution_count": null,
   "metadata": {
    "collapsed": true
   },
   "outputs": [],
   "source": []
  }
 ],
 "metadata": {
  "kernelspec": {
   "display_name": "Python 3",
   "language": "python",
   "name": "python3"
  },
  "language_info": {
   "codemirror_mode": {
    "name": "ipython",
    "version": 3
   },
   "file_extension": ".py",
   "mimetype": "text/x-python",
   "name": "python",
   "nbconvert_exporter": "python",
   "pygments_lexer": "ipython3",
   "version": "3.6.2"
  }
 },
 "nbformat": 4,
 "nbformat_minor": 2
}
