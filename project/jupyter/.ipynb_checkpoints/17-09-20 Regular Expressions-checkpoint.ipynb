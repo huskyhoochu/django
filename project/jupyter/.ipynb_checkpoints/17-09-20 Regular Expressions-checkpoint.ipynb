{
 "cells": [
  {
   "cell_type": "markdown",
   "metadata": {},
   "source": [
    "# 정규표현식 Regular Expressions"
   ]
  },
  {
   "cell_type": "markdown",
   "metadata": {},
   "source": [
    "* 정규표현식은 복잡한 문자열 속에서 특정 규칙을 가진 문자열을 찾을 때 사용한다.\n",
    "* 정규표현식은 re 모듈을 가져와서 사용한다. re는 regular expressions의 약자다."
   ]
  },
  {
   "cell_type": "markdown",
   "metadata": {},
   "source": [
    "### match: 시작부터 일치하는 패턴 찾기"
   ]
  },
  {
   "cell_type": "code",
   "execution_count": 73,
   "metadata": {},
   "outputs": [
    {
     "name": "stdout",
     "output_type": "stream",
     "text": [
      "<_sre.SRE_Match object; span=(0, 3), match='Lux'>\n"
     ]
    }
   ],
   "source": [
    "import re\n",
    "lol = 'Lux, the Lady of Luminosity'\n",
    "m = re.match('Lux', lol)\n",
    "#찾으려는 문자열을 쓰고, 전체 소스를 쓴다.\n",
    "print(m)\n",
    "#문자열을 찾아내면 match object를 반환한다."
   ]
  },
  {
   "cell_type": "markdown",
   "metadata": {},
   "source": [
    "### match object의 메서드"
   ]
  },
  {
   "cell_type": "markdown",
   "metadata": {},
   "source": [
    "method | 목적\n",
    "--- | ---\n",
    "group() | 매치된 문자열을 리턴한다.\n",
    "start() | 매치된 문자열의 시작 위치를 리턴한다.\n",
    "end() | 매치된 문자열의 끝 위치를 리턴한다.\n",
    "span() | 매치된 문자열의 (시작, 끝)에 해당하는 튜플을 리턴한다."
   ]
  },
  {
   "cell_type": "code",
   "execution_count": 74,
   "metadata": {},
   "outputs": [
    {
     "data": {
      "text/plain": [
       "'Lux'"
      ]
     },
     "execution_count": 74,
     "metadata": {},
     "output_type": "execute_result"
    }
   ],
   "source": [
    "m.group() #매치된 문자열 리턴"
   ]
  },
  {
   "cell_type": "code",
   "execution_count": 75,
   "metadata": {},
   "outputs": [
    {
     "data": {
      "text/plain": [
       "0"
      ]
     },
     "execution_count": 75,
     "metadata": {},
     "output_type": "execute_result"
    }
   ],
   "source": [
    "m.start() # 매치된 문자열의 시작 위치: 처음이니까 0"
   ]
  },
  {
   "cell_type": "code",
   "execution_count": 76,
   "metadata": {},
   "outputs": [
    {
     "data": {
      "text/plain": [
       "3"
      ]
     },
     "execution_count": 76,
     "metadata": {},
     "output_type": "execute_result"
    }
   ],
   "source": [
    "m.end() #매치된 문자열의 끝 위치: 3"
   ]
  },
  {
   "cell_type": "code",
   "execution_count": 77,
   "metadata": {},
   "outputs": [
    {
     "data": {
      "text/plain": [
       "(0, 3)"
      ]
     },
     "execution_count": 77,
     "metadata": {},
     "output_type": "execute_result"
    }
   ],
   "source": [
    "m.span() #매치된 문자열의 시작과 끝에 해당하는 튜플"
   ]
  },
  {
   "cell_type": "markdown",
   "metadata": {},
   "source": [
    "* `match()`는 시작부분부터 일치하는 패턴만 찾기 때문에, `Lady`라는 패턴으로는 찾을 수 없다."
   ]
  },
  {
   "cell_type": "code",
   "execution_count": 78,
   "metadata": {},
   "outputs": [
    {
     "name": "stdout",
     "output_type": "stream",
     "text": [
      "None\n"
     ]
    }
   ],
   "source": [
    "m = re.match('Lady', lol)#'Lady'는 소스의 시작이 아니므로 match로 찾을 수 없다.\n",
    "print(m)"
   ]
  },
  {
   "cell_type": "code",
   "execution_count": 79,
   "metadata": {},
   "outputs": [
    {
     "name": "stdout",
     "output_type": "stream",
     "text": [
      "<_sre.SRE_Match object; span=(0, 13), match='Lux, the Lady'>\n"
     ]
    }
   ],
   "source": [
    "m = re.match('.*Lady', lol)#패턴지정자를 적어줬을 때에야 찾아준다\n",
    "print(m)"
   ]
  },
  {
   "cell_type": "markdown",
   "metadata": {},
   "source": [
    "* `.`은 개행문자(`\\n`)을 제외한 모든 문자 1개를 의미한다.\n",
    "* `*`은 바로 앞에 있는 문자가 0부터 무한대로 반복될 수 있다는 의미다.\n",
    "* `.*`은 `.`이 무한대로 반복될 수 있다는 뜻이다. \n",
    "* 그러므로 `.*Lady`는 `Lady`앞에 무한대의 글자가 올 수 있다는 뜻이 된다.\n",
    "* 결국 찾아낸 글자는 `Lady`앞의 글자들도 모두 포함하게 된다."
   ]
  },
  {
   "cell_type": "markdown",
   "metadata": {},
   "source": [
    "### search: 첫 번째 일치하는 패턴 찾기"
   ]
  },
  {
   "cell_type": "markdown",
   "metadata": {},
   "source": [
    "* `*`패턴 없이 `Lady`만 찾을 경우, 문자열 전체에서 일치하는 부분을 찾는 `search()`를 사용한다."
   ]
  },
  {
   "cell_type": "code",
   "execution_count": 80,
   "metadata": {},
   "outputs": [
    {
     "name": "stdout",
     "output_type": "stream",
     "text": [
      "<_sre.SRE_Match object; span=(9, 13), match='Lady'>\n"
     ]
    }
   ],
   "source": [
    "m = re.search('Lady', lol)\n",
    "print(m)"
   ]
  },
  {
   "cell_type": "markdown",
   "metadata": {},
   "source": [
    "### findall: 일치하는 모든 패턴 찾기"
   ]
  },
  {
   "cell_type": "markdown",
   "metadata": {},
   "source": [
    "* `search`가 첫 번째 일치하는 패턴만 찾아 match object로 반환하는 것과 달리,\n",
    "* `findall`은 일치하는 모든 패턴을 찾아 리스트로 반환한다."
   ]
  },
  {
   "cell_type": "code",
   "execution_count": 81,
   "metadata": {},
   "outputs": [
    {
     "name": "stdout",
     "output_type": "stream",
     "text": [
      "['L', 'L', 'L']\n"
     ]
    }
   ],
   "source": [
    "m = re.findall('L', lol)\n",
    "print(m) "
   ]
  },
  {
   "cell_type": "markdown",
   "metadata": {},
   "source": [
    "### finditer: 반복 가능한 객체 만들기"
   ]
  },
  {
   "cell_type": "markdown",
   "metadata": {},
   "source": [
    "* `finditer`는 `findall`과 달리 반복 가능한 객체를 반환한다."
   ]
  },
  {
   "cell_type": "code",
   "execution_count": 87,
   "metadata": {},
   "outputs": [
    {
     "name": "stdout",
     "output_type": "stream",
     "text": [
      "<callable_iterator object at 0x10ebe0be0>\n",
      "L\n",
      "L\n",
      "L\n"
     ]
    }
   ],
   "source": [
    "m = re.finditer('L', lol)\n",
    "print(m)\n",
    "for i in m:#순회 가능 객체를 순회시키며 하나하나 문자열로 출력시킨다\n",
    "    print(i.group())"
   ]
  },
  {
   "cell_type": "markdown",
   "metadata": {},
   "source": [
    "### split: 패턴으로 나누기"
   ]
  },
  {
   "cell_type": "code",
   "execution_count": 82,
   "metadata": {},
   "outputs": [
    {
     "name": "stdout",
     "output_type": "stream",
     "text": [
      "['Lux, the Lady ', 'f Lumin', 'sity']\n"
     ]
    }
   ],
   "source": [
    "m = re.split('o', lol) #split()패턴과 비슷함\n",
    "print(m) #찾아낸 패턴을 제거하고 패턴을 기준으로 문자열을 쪼개어 리스트로 반환"
   ]
  },
  {
   "cell_type": "markdown",
   "metadata": {},
   "source": [
    "### sub: 패턴 대체하기"
   ]
  },
  {
   "cell_type": "code",
   "execution_count": 83,
   "metadata": {},
   "outputs": [
    {
     "name": "stdout",
     "output_type": "stream",
     "text": [
      "Lux, the Lady !f Lumin!sity\n"
     ]
    }
   ],
   "source": [
    "m = re.sub('o','!', lol) #replace() 패턴과 비슷함\n",
    "print(m)#찾아낸 패턴을 다른 패턴으로 대체하고 문자열로 반환"
   ]
  },
  {
   "cell_type": "markdown",
   "metadata": {},
   "source": [
    "# 메타 문자(meta characters) 이해하기"
   ]
  },
  {
   "cell_type": "markdown",
   "metadata": {},
   "source": [
    "* 메타문자는 정규표현식에 사용되어 특별한 의미를 갖게 된다.\n",
    "* 종류: `. ^ $ * + ? {} [] \\ | ()`"
   ]
  },
  {
   "cell_type": "code",
   "execution_count": 27,
   "metadata": {
    "collapsed": true
   },
   "outputs": [],
   "source": [
    "source = \"\"\"\n",
    "Your father is about to ask me the question. This is the most important moment in our lives, and I want to pay attention, note every detail. Your dad and I have just come back from an evening out, dinner and a show; it’s after midnight. We came out onto the patio to look at the full moon; then I told your dad I wanted to dance, so he humors me and now we’re slow-dancing, a pair of thirtysomethings swaying back and forth in the moonlight like kids. I don’t feel the night chill at all. And then your dad says, “Do you want to make a baby?”\n",
    "Right now your dad and I have been married for about two years, living on Ellis Avenue; when we move out you’ll still be too young to remember the house, but we’ll show you pictures of it, tell you stories about it. I’d love to tell you the story of this evening, the night you’re conceived, but the right time to do that would be when you’re ready to have children of your own, and we’ll never get that chance.\n",
    "Telling it to you any earlier wouldn’t do any good; for most of your life you won’t sit still to hear such a romantic—you’d say sappy—story. I remember the scenario of your origin you’ll suggest when you’re twelve.\n",
    "\"\"\""
   ]
  },
  {
   "cell_type": "markdown",
   "metadata": {},
   "source": [
    "### 문자 클래스 `[]`"
   ]
  },
  {
   "cell_type": "markdown",
   "metadata": {},
   "source": [
    "* `[]`는 대괄호 사이의 문자와 매치한다는 뜻이다.\n",
    "* 예를 들어 `[abc]`라면 이 표현식의 의미는 \"a,b,c중 한 개의 문자와 매치\"를 뜻한다."
   ]
  },
  {
   "cell_type": "code",
   "execution_count": 32,
   "metadata": {},
   "outputs": [
    {
     "name": "stdout",
     "output_type": "stream",
     "text": [
      "['a', 'a', 'b', 'a', 'a', 'a', 'a', 'a', 'a', 'a', 'a', 'a', 'a', 'c', 'b', 'a', 'c', 'a', 'a', 'a', 'a', 'c', 'a', 'a', 'a', 'a', 'a', 'a', 'c', 'a', 'a', 'c', 'a', 'a', 'a', 'b', 'a', 'c', 'a', 'c', 'a', 'a', 'a', 'a', 'a', 'a', 'a', 'b', 'a', 'b', 'a', 'a', 'a', 'b', 'a', 'a', 'b', 'a', 'b', 'b', 'b', 'c', 'a', 'b', 'c', 'c', 'b', 'a', 'b', 'a', 'a', 'c', 'a', 'a', 'c', 'a', 'c', 'a', 'a', 'a', 'a', 'c', 'a', 'a', 'c', 'a', 'a', 'b', 'c', 'a']\n"
     ]
    }
   ],
   "source": [
    "m = re.findall('[abc]', source)\n",
    "print(m)#전체 source에서 a,b,c중 한 개의 문자와 매치된 결과를 리스트로 반환했다"
   ]
  },
  {
   "cell_type": "markdown",
   "metadata": {},
   "source": [
    "* 하이픈(-)을 사용하면 두 문자 사이의 범위를 의미하게 된다.\n",
    "* 예를 들어 `[a-z]`는 a부터 z까지의 모든 알파벳을 뜻한다. `[0-9]`는 `[0123456789]`를 뜻한다.\n",
    "* 대괄호 안에 `^`가 쓰이면 `not`의 의미를 갖는다. `[^0-9]`는 문자만 매치된다.\n",
    "* [a-zA-Z]: 알파벳 모두\n",
    "* [0-9]: 숫자"
   ]
  },
  {
   "cell_type": "code",
   "execution_count": 37,
   "metadata": {},
   "outputs": [
    {
     "name": "stdout",
     "output_type": "stream",
     "text": [
      "<_sre.SRE_Match object; span=(0, 1), match='\\n'>\n"
     ]
    }
   ],
   "source": [
    "m = re.search('[^0-9]', source)\n",
    "print(m)"
   ]
  },
  {
   "cell_type": "markdown",
   "metadata": {},
   "source": [
    "### 자주 사용하는 문자 클래스"
   ]
  },
  {
   "cell_type": "markdown",
   "metadata": {},
   "source": [
    "* 대문자와 소문자는 서로 뜻이 반대다.\n",
    "* `\\d`: 숫자와 매치. [0-9]와 동일\n",
    "* `\\D`: 숫자가 아닌 것과 매치. [^0-9]와 동일\n",
    "* `\\s`: 공백문자와 매치.\n",
    "* `\\S`: 공백문자 아닌 것과 매치.\n",
    "* `\\w`: 문자 + 숫자와 매치. `[a-zA-Z0-9]`와 동일\n",
    "* `\\W`: 문자 + 숫자 아닌 것과 매치. `[^a-zA-Z0-9]`와 동일"
   ]
  },
  {
   "cell_type": "code",
   "execution_count": 58,
   "metadata": {},
   "outputs": [
    {
     "name": "stdout",
     "output_type": "stream",
     "text": [
      "['.', ',', ',', '.', ',', ';', '’', '.', ';', ',', '’', '-', ',', '.', '’', '.', ',', '“', '?', '”', ',', ';', '’', ',', '’', ',', '.', '’', ',', '’', ',', '’', ',', '’', '.', '’', ';', '’', '—', '’', '—', '.', '’', '’', '.']\n"
     ]
    }
   ],
   "source": [
    "m = re.findall(r'[^\\w\\s]', source)#[^abc]의 뜻: not(a or b or c)\n",
    "print(m)#본문 중 문자+숫자가 아닌 개행문자, 특수문자들만 매치되어 반환된다."
   ]
  },
  {
   "cell_type": "markdown",
   "metadata": {},
   "source": [
    "### Dot `.`"
   ]
  },
  {
   "cell_type": "markdown",
   "metadata": {},
   "source": [
    "* `a.b`는 \"a + `\\n`을 제외한 모든 문자 + b\"와 같다.\n",
    "* 다만 `[.]`은 문자 그대로의 `.`을 의미한다."
   ]
  },
  {
   "cell_type": "code",
   "execution_count": 66,
   "metadata": {},
   "outputs": [
    {
     "name": "stdout",
     "output_type": "stream",
     "text": [
      "['ther', 'the ', 'the ', 'tten', 'the ', 'the ', 'then', 'the ', 'the ', 'then', 'the ', 'the ', 'the ', 'the ', 'the ', 'twel']\n"
     ]
    }
   ],
   "source": [
    "m = re.findall(r't.e.', source)\n",
    "print(m)#t와 e 사이에 어떤 문자가 들어와도 매치 가능."
   ]
  },
  {
   "cell_type": "markdown",
   "metadata": {},
   "source": [
    "### 반복 `*`"
   ]
  },
  {
   "cell_type": "markdown",
   "metadata": {},
   "source": [
    "* `*`은 반복을 의미하는 메타문자다. 바로 앞에 오는 문자가 몇번이고 반복되어도 상관 없다."
   ]
  },
  {
   "cell_type": "code",
   "execution_count": 68,
   "metadata": {},
   "outputs": [
    {
     "name": "stdout",
     "output_type": "stream",
     "text": [
      "['e', 'e', 'e', 'e', 'e', 'e', 'e', 'tte', 'te', 'e', 'e', 'e', 'e', 'e', 'e', 'e', 'e', 'te', 'e', 'e', 'e', 'e', 'e', 'te', 'e', 'e', 'e', 'e', 'e', 'e', 'e', 'e', 'e', 'e', 'e', 'e', 'e', 'e', 'e', 'e', 'e', 'e', 'e', 'e', 'e', 'e', 'e', 'e', 'e', 'e', 'e', 'e', 'e', 'e', 'e', 'te', 'e', 'e', 'te', 'e', 'e', 'e', 'e', 'e', 'e', 'e', 'e', 'e', 'e', 'e', 'e', 'e', 'e', 'e', 'e', 'e', 'e', 'e', 'e', 'e', 'e', 'e', 'e', 'e', 'e', 'e', 'e', 'e', 'e', 'e', 'e', 'e', 'e', 'e']\n"
     ]
    }
   ],
   "source": [
    "m = re.findall(r't*e', source)\n",
    "print(m)#'t'가 0번 이상 반복된 e문자열을 가져온 것이다"
   ]
  },
  {
   "cell_type": "markdown",
   "metadata": {},
   "source": [
    "### 반복 `+`"
   ]
  },
  {
   "cell_type": "markdown",
   "metadata": {},
   "source": [
    "* `+`는 `*`과 달리 반복이 1번 이상 일어나는 문자열을 매치한다."
   ]
  },
  {
   "cell_type": "code",
   "execution_count": 69,
   "metadata": {},
   "outputs": [
    {
     "name": "stdout",
     "output_type": "stream",
     "text": [
      "['tte', 'te', 'te', 'te', 'te', 'te']\n"
     ]
    }
   ],
   "source": [
    "m = re.findall(r't+e', source)\n",
    "print(m)#앞서 결과와 달리 t 반복이 0회인 문자열은 제외되었다."
   ]
  },
  {
   "cell_type": "markdown",
   "metadata": {},
   "source": [
    "### 반복 `{m, n}`"
   ]
  },
  {
   "cell_type": "markdown",
   "metadata": {},
   "source": [
    "* `{}`메타 문자는 반복 횟수를 고정시킬 수 있다. `{m,n}`은 반복 횟수가 m부터 n까지인 것이다.\n",
    "* 문자를 생략하면 이상 혹은 이하의 의미를 갖는다.\n",
    "* `{1,}`은 `+`와 동일하며, `{0,}`은 `*`와 동일하다."
   ]
  },
  {
   "cell_type": "code",
   "execution_count": 71,
   "metadata": {},
   "outputs": [
    {
     "name": "stdout",
     "output_type": "stream",
     "text": [
      "['the', 'the', 'the', 'the', 'the', 'the', 'the', 'the', 'the', 'the', 'the', 'the', 'the', 'the']\n"
     ]
    }
   ],
   "source": [
    "m = re.findall(r'th{1}e', source)\n",
    "print(m)#'h'가 딱 한번 반복된 문자열만 매치"
   ]
  },
  {
   "cell_type": "markdown",
   "metadata": {},
   "source": [
    "### 있어도 되고 없어도 된다 `?`"
   ]
  },
  {
   "cell_type": "markdown",
   "metadata": {},
   "source": [
    "* `?`는 `{0,1}`과 같은 뜻이다.\n",
    "* `ab?c`는 b가 있어도 되고 없어도 되는 상황을 뜻한다."
   ]
  },
  {
   "cell_type": "code",
   "execution_count": 72,
   "metadata": {},
   "outputs": [
    {
     "name": "stdout",
     "output_type": "stream",
     "text": [
      "['the', 'the', 'the', 'te', 'te', 'te', 'the', 'the', 'the', 'te', 'the', 'the', 'the', 'the', 'te', 'te', 'the', 'the', 'the', 'the']\n"
     ]
    }
   ],
   "source": [
    "m = re.findall(r'th?e', source)\n",
    "print(m)#h가 없는 문자열도 매치된다"
   ]
  },
  {
   "cell_type": "markdown",
   "metadata": {},
   "source": [
    "# 모듈 단위로 수행하기"
   ]
  },
  {
   "cell_type": "markdown",
   "metadata": {},
   "source": [
    "* 반복되는 정규표현식은 모듈로 만들어 사용하는 것이 편리하다.\n",
    "* `re.compile('식')`의 형태로 만들면 된다."
   ]
  },
  {
   "cell_type": "code",
   "execution_count": 91,
   "metadata": {},
   "outputs": [
    {
     "name": "stdout",
     "output_type": "stream",
     "text": [
      "['the', 'the', 'the', 'te', 'te', 'te', 'the', 'the', 'the', 'te', 'the', 'the', 'the', 'the', 'te', 'te', 'the', 'the', 'the', 'the']\n"
     ]
    }
   ],
   "source": [
    "p = re.compile(r'th?e')#모듈 단위로 만들어두면 다른 소스를 검사할 때에도 똑같이 사용가능하다\n",
    "m = p.findall(source)\n",
    "print(m)"
   ]
  },
  {
   "cell_type": "markdown",
   "metadata": {},
   "source": [
    "# 컴파일 옵션"
   ]
  },
  {
   "cell_type": "markdown",
   "metadata": {},
   "source": [
    "* DOTALL: `.`이 줄바꿈 문자를 포함하여 모든 문자와 매치할 수 있도록 한다.\n",
    "* IGNORECASE: 대소문자와 관계없이 매치할 수 있도록 한다.\n",
    "* MULTILINE: 여러 줄에 걸친 소스를 매치할 수 있도록 한다."
   ]
  },
  {
   "cell_type": "code",
   "execution_count": 92,
   "metadata": {},
   "outputs": [
    {
     "name": "stdout",
     "output_type": "stream",
     "text": [
      "None\n"
     ]
    }
   ],
   "source": [
    "p = re.compile(r'a.b')\n",
    "m = p.match('a\\nb')\n",
    "print(m)#.은 줄바꿈 문자를 인식하지 못한다."
   ]
  },
  {
   "cell_type": "code",
   "execution_count": 93,
   "metadata": {},
   "outputs": [
    {
     "name": "stdout",
     "output_type": "stream",
     "text": [
      "<_sre.SRE_Match object; span=(0, 3), match='a\\nb'>\n"
     ]
    }
   ],
   "source": [
    "p = re.compile(r'a.b', re.DOTALL)\n",
    "m = p.match('a\\nb')\n",
    "print(m)#DOTALL을 붙이면 줄바꿈 문자도 인식한다."
   ]
  },
  {
   "cell_type": "code",
   "execution_count": 95,
   "metadata": {},
   "outputs": [
    {
     "name": "stdout",
     "output_type": "stream",
     "text": [
      "<_sre.SRE_Match object; span=(0, 1), match='p'>\n",
      "<_sre.SRE_Match object; span=(0, 1), match='P'>\n"
     ]
    }
   ],
   "source": [
    "p = re.compile('\\w', re.IGNORECASE)\n",
    "m = p.match('python')\n",
    "n = p.match('Python')\n",
    "print(m)#대소문자에 상관없이 매치된다.\n",
    "print(n)"
   ]
  },
  {
   "cell_type": "code",
   "execution_count": 97,
   "metadata": {},
   "outputs": [
    {
     "name": "stdout",
     "output_type": "stream",
     "text": [
      "['python one']\n",
      "['python one', 'python two', 'python three']\n"
     ]
    }
   ],
   "source": [
    "p = re.compile(r'^python\\s\\w+')\n",
    "k = re.compile(r'^python\\s\\w+', re.MULTILINE)\n",
    "#'python'으로 시작하며, 그 다음엔 스페이스가 오고 그 다음엔 문자가 1회 이상 반복되는 문자열을 찾는다\n",
    "data = \"\"\"python one\n",
    "life is too short\n",
    "python two\n",
    "you need python\n",
    "python three\n",
    "\"\"\"\n",
    "print(p.findall(data))#멀티라인 적용 전\n",
    "print(k.findall(data))#멀티라인 적용 후"
   ]
  },
  {
   "cell_type": "code",
   "execution_count": null,
   "metadata": {
    "collapsed": true
   },
   "outputs": [],
   "source": []
  }
 ],
 "metadata": {
  "kernelspec": {
   "display_name": "Python 3",
   "language": "python",
   "name": "python3"
  },
  "language_info": {
   "codemirror_mode": {
    "name": "ipython",
    "version": 3
   },
   "file_extension": ".py",
   "mimetype": "text/x-python",
   "name": "python",
   "nbconvert_exporter": "python",
   "pygments_lexer": "ipython3",
   "version": "3.6.2"
  }
 },
 "nbformat": 4,
 "nbformat_minor": 2
}
